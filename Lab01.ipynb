{
 "cells": [
  {
   "cell_type": "code",
   "execution_count": 1,
   "metadata": {},
   "outputs": [],
   "source": [
    "import pandas as pd"
   ]
  },
  {
   "cell_type": "code",
   "execution_count": 2,
   "metadata": {},
   "outputs": [
    {
     "data": {
      "application/vnd.microsoft.datawrangler.viewer.v0+json": {
       "columns": [
        {
         "name": "index",
         "rawType": "int64",
         "type": "integer"
        },
        {
         "name": "X",
         "rawType": "int64",
         "type": "integer"
        },
        {
         "name": "Y",
         "rawType": "int64",
         "type": "integer"
        },
        {
         "name": "month",
         "rawType": "object",
         "type": "string"
        },
        {
         "name": "day",
         "rawType": "object",
         "type": "string"
        },
        {
         "name": "FFMC",
         "rawType": "float64",
         "type": "float"
        },
        {
         "name": "DMC",
         "rawType": "float64",
         "type": "float"
        },
        {
         "name": "DC",
         "rawType": "float64",
         "type": "float"
        },
        {
         "name": "ISI",
         "rawType": "float64",
         "type": "float"
        },
        {
         "name": "temp",
         "rawType": "float64",
         "type": "float"
        },
        {
         "name": "RH",
         "rawType": "int64",
         "type": "integer"
        },
        {
         "name": "wind",
         "rawType": "float64",
         "type": "float"
        },
        {
         "name": "rain",
         "rawType": "float64",
         "type": "float"
        },
        {
         "name": "area",
         "rawType": "float64",
         "type": "float"
        }
       ],
       "conversionMethod": "pd.DataFrame",
       "ref": "5ab1e343-c3d6-4cd2-88a1-8fbbf31e5655",
       "rows": [
        [
         "0",
         "7",
         "5",
         "mar",
         "fri",
         "86.2",
         "26.2",
         "94.3",
         "5.1",
         "8.2",
         "51",
         "6.7",
         "0.0",
         "0.0"
        ],
        [
         "1",
         "7",
         "4",
         "oct",
         "tue",
         "90.6",
         "35.4",
         "669.1",
         "6.7",
         "18.0",
         "33",
         "0.9",
         "0.0",
         "0.0"
        ],
        [
         "2",
         "7",
         "4",
         "oct",
         "sat",
         "90.6",
         "43.7",
         "686.9",
         "6.7",
         "14.6",
         "33",
         "1.3",
         "0.0",
         "0.0"
        ],
        [
         "3",
         "8",
         "6",
         "mar",
         "fri",
         "91.7",
         "33.3",
         "77.5",
         "9.0",
         "8.3",
         "97",
         "4.0",
         "0.2",
         "0.0"
        ],
        [
         "4",
         "8",
         "6",
         "mar",
         "sun",
         "89.3",
         "51.3",
         "102.2",
         "9.6",
         "11.4",
         "99",
         "1.8",
         "0.0",
         "0.0"
        ],
        [
         "5",
         "8",
         "6",
         "aug",
         "sun",
         "92.3",
         "85.3",
         "488.0",
         "14.7",
         "22.2",
         "29",
         "5.4",
         "0.0",
         "0.0"
        ],
        [
         "6",
         "8",
         "6",
         "aug",
         "mon",
         "92.3",
         "88.9",
         "495.6",
         "8.5",
         "24.1",
         "27",
         "3.1",
         "0.0",
         "0.0"
        ],
        [
         "7",
         "8",
         "6",
         "aug",
         "mon",
         "91.5",
         "145.4",
         "608.2",
         "10.7",
         "8.0",
         "86",
         "2.2",
         "0.0",
         "0.0"
        ],
        [
         "8",
         "8",
         "6",
         "sep",
         "tue",
         "91.0",
         "129.5",
         "692.6",
         "7.0",
         "13.1",
         "63",
         "5.4",
         "0.0",
         "0.0"
        ],
        [
         "9",
         "7",
         "5",
         "sep",
         "sat",
         "92.5",
         "88.0",
         "698.6",
         "7.1",
         "22.8",
         "40",
         "4.0",
         "0.0",
         "0.0"
        ],
        [
         "10",
         "7",
         "5",
         "sep",
         "sat",
         "92.5",
         "88.0",
         "698.6",
         "7.1",
         "17.8",
         "51",
         "7.2",
         "0.0",
         "0.0"
        ],
        [
         "11",
         "7",
         "5",
         "sep",
         "sat",
         "92.8",
         "73.2",
         "713.0",
         "22.6",
         "19.3",
         "38",
         "4.0",
         "0.0",
         "0.0"
        ],
        [
         "12",
         "6",
         "5",
         "aug",
         "fri",
         "63.5",
         "70.8",
         "665.3",
         "0.8",
         "17.0",
         "72",
         "6.7",
         "0.0",
         "0.0"
        ],
        [
         "13",
         "6",
         "5",
         "sep",
         "mon",
         "90.9",
         "126.5",
         "686.5",
         "7.0",
         "21.3",
         "42",
         "2.2",
         "0.0",
         "0.0"
        ],
        [
         "14",
         "6",
         "5",
         "sep",
         "wed",
         "92.9",
         "133.3",
         "699.6",
         "9.2",
         "26.4",
         "21",
         "4.5",
         "0.0",
         "0.0"
        ],
        [
         "15",
         "6",
         "5",
         "sep",
         "fri",
         "93.3",
         "141.2",
         "713.9",
         "13.9",
         "22.9",
         "44",
         "5.4",
         "0.0",
         "0.0"
        ],
        [
         "16",
         "5",
         "5",
         "mar",
         "sat",
         "91.7",
         "35.8",
         "80.8",
         "7.8",
         "15.1",
         "27",
         "5.4",
         "0.0",
         "0.0"
        ],
        [
         "17",
         "8",
         "5",
         "oct",
         "mon",
         "84.9",
         "32.8",
         "664.2",
         "3.0",
         "16.7",
         "47",
         "4.9",
         "0.0",
         "0.0"
        ],
        [
         "18",
         "6",
         "4",
         "mar",
         "wed",
         "89.2",
         "27.9",
         "70.8",
         "6.3",
         "15.9",
         "35",
         "4.0",
         "0.0",
         "0.0"
        ],
        [
         "19",
         "6",
         "4",
         "apr",
         "sat",
         "86.3",
         "27.4",
         "97.1",
         "5.1",
         "9.3",
         "44",
         "4.5",
         "0.0",
         "0.0"
        ],
        [
         "20",
         "6",
         "4",
         "sep",
         "tue",
         "91.0",
         "129.5",
         "692.6",
         "7.0",
         "18.3",
         "40",
         "2.7",
         "0.0",
         "0.0"
        ],
        [
         "21",
         "5",
         "4",
         "sep",
         "mon",
         "91.8",
         "78.5",
         "724.3",
         "9.2",
         "19.1",
         "38",
         "2.7",
         "0.0",
         "0.0"
        ],
        [
         "22",
         "7",
         "4",
         "jun",
         "sun",
         "94.3",
         "96.3",
         "200.0",
         "56.1",
         "21.0",
         "44",
         "4.5",
         "0.0",
         "0.0"
        ],
        [
         "23",
         "7",
         "4",
         "aug",
         "sat",
         "90.2",
         "110.9",
         "537.4",
         "6.2",
         "19.5",
         "43",
         "5.8",
         "0.0",
         "0.0"
        ],
        [
         "24",
         "7",
         "4",
         "aug",
         "sat",
         "93.5",
         "139.4",
         "594.2",
         "20.3",
         "23.7",
         "32",
         "5.8",
         "0.0",
         "0.0"
        ],
        [
         "25",
         "7",
         "4",
         "aug",
         "sun",
         "91.4",
         "142.4",
         "601.4",
         "10.6",
         "16.3",
         "60",
         "5.4",
         "0.0",
         "0.0"
        ],
        [
         "26",
         "7",
         "4",
         "sep",
         "fri",
         "92.4",
         "117.9",
         "668.0",
         "12.2",
         "19.0",
         "34",
         "5.8",
         "0.0",
         "0.0"
        ],
        [
         "27",
         "7",
         "4",
         "sep",
         "mon",
         "90.9",
         "126.5",
         "686.5",
         "7.0",
         "19.4",
         "48",
         "1.3",
         "0.0",
         "0.0"
        ],
        [
         "28",
         "6",
         "3",
         "sep",
         "sat",
         "93.4",
         "145.4",
         "721.4",
         "8.1",
         "30.2",
         "24",
         "2.7",
         "0.0",
         "0.0"
        ],
        [
         "29",
         "6",
         "3",
         "sep",
         "sun",
         "93.5",
         "149.3",
         "728.6",
         "8.1",
         "22.8",
         "39",
         "3.6",
         "0.0",
         "0.0"
        ],
        [
         "30",
         "6",
         "3",
         "sep",
         "fri",
         "94.3",
         "85.1",
         "692.3",
         "15.9",
         "25.4",
         "24",
         "3.6",
         "0.0",
         "0.0"
        ],
        [
         "31",
         "6",
         "3",
         "sep",
         "mon",
         "88.6",
         "91.8",
         "709.9",
         "7.1",
         "11.2",
         "78",
         "7.6",
         "0.0",
         "0.0"
        ],
        [
         "32",
         "6",
         "3",
         "sep",
         "fri",
         "88.6",
         "69.7",
         "706.8",
         "5.8",
         "20.6",
         "37",
         "1.8",
         "0.0",
         "0.0"
        ],
        [
         "33",
         "6",
         "3",
         "sep",
         "sun",
         "91.7",
         "75.6",
         "718.3",
         "7.8",
         "17.7",
         "39",
         "3.6",
         "0.0",
         "0.0"
        ],
        [
         "34",
         "6",
         "3",
         "sep",
         "mon",
         "91.8",
         "78.5",
         "724.3",
         "9.2",
         "21.2",
         "32",
         "2.7",
         "0.0",
         "0.0"
        ],
        [
         "35",
         "6",
         "3",
         "sep",
         "tue",
         "90.3",
         "80.7",
         "730.2",
         "6.3",
         "18.2",
         "62",
         "4.5",
         "0.0",
         "0.0"
        ],
        [
         "36",
         "6",
         "3",
         "oct",
         "tue",
         "90.6",
         "35.4",
         "669.1",
         "6.7",
         "21.7",
         "24",
         "4.5",
         "0.0",
         "0.0"
        ],
        [
         "37",
         "7",
         "4",
         "oct",
         "fri",
         "90.0",
         "41.5",
         "682.6",
         "8.7",
         "11.3",
         "60",
         "5.4",
         "0.0",
         "0.0"
        ],
        [
         "38",
         "7",
         "3",
         "oct",
         "sat",
         "90.6",
         "43.7",
         "686.9",
         "6.7",
         "17.8",
         "27",
         "4.0",
         "0.0",
         "0.0"
        ],
        [
         "39",
         "4",
         "4",
         "mar",
         "tue",
         "88.1",
         "25.7",
         "67.6",
         "3.8",
         "14.1",
         "43",
         "2.7",
         "0.0",
         "0.0"
        ],
        [
         "40",
         "4",
         "4",
         "jul",
         "tue",
         "79.5",
         "60.6",
         "366.7",
         "1.5",
         "23.3",
         "37",
         "3.1",
         "0.0",
         "0.0"
        ],
        [
         "41",
         "4",
         "4",
         "aug",
         "sat",
         "90.2",
         "96.9",
         "624.2",
         "8.9",
         "18.4",
         "42",
         "6.7",
         "0.0",
         "0.0"
        ],
        [
         "42",
         "4",
         "4",
         "aug",
         "tue",
         "94.8",
         "108.3",
         "647.1",
         "17.0",
         "16.6",
         "54",
         "5.4",
         "0.0",
         "0.0"
        ],
        [
         "43",
         "4",
         "4",
         "sep",
         "sat",
         "92.5",
         "88.0",
         "698.6",
         "7.1",
         "19.6",
         "48",
         "2.7",
         "0.0",
         "0.0"
        ],
        [
         "44",
         "4",
         "4",
         "sep",
         "wed",
         "90.1",
         "82.9",
         "735.7",
         "6.2",
         "12.9",
         "74",
         "4.9",
         "0.0",
         "0.0"
        ],
        [
         "45",
         "5",
         "6",
         "sep",
         "wed",
         "94.3",
         "85.1",
         "692.3",
         "15.9",
         "25.9",
         "24",
         "4.0",
         "0.0",
         "0.0"
        ],
        [
         "46",
         "5",
         "6",
         "sep",
         "mon",
         "90.9",
         "126.5",
         "686.5",
         "7.0",
         "14.7",
         "70",
         "3.6",
         "0.0",
         "0.0"
        ],
        [
         "47",
         "6",
         "6",
         "jul",
         "mon",
         "94.2",
         "62.3",
         "442.9",
         "11.0",
         "23.0",
         "36",
         "3.1",
         "0.0",
         "0.0"
        ],
        [
         "48",
         "4",
         "4",
         "mar",
         "mon",
         "87.2",
         "23.9",
         "64.7",
         "4.1",
         "11.8",
         "35",
         "1.8",
         "0.0",
         "0.0"
        ],
        [
         "49",
         "4",
         "4",
         "mar",
         "mon",
         "87.6",
         "52.2",
         "103.8",
         "5.0",
         "11.0",
         "46",
         "5.8",
         "0.0",
         "0.0"
        ]
       ],
       "shape": {
        "columns": 13,
        "rows": 517
       }
      },
      "text/html": [
       "<div>\n",
       "<style scoped>\n",
       "    .dataframe tbody tr th:only-of-type {\n",
       "        vertical-align: middle;\n",
       "    }\n",
       "\n",
       "    .dataframe tbody tr th {\n",
       "        vertical-align: top;\n",
       "    }\n",
       "\n",
       "    .dataframe thead th {\n",
       "        text-align: right;\n",
       "    }\n",
       "</style>\n",
       "<table border=\"1\" class=\"dataframe\">\n",
       "  <thead>\n",
       "    <tr style=\"text-align: right;\">\n",
       "      <th></th>\n",
       "      <th>X</th>\n",
       "      <th>Y</th>\n",
       "      <th>month</th>\n",
       "      <th>day</th>\n",
       "      <th>FFMC</th>\n",
       "      <th>DMC</th>\n",
       "      <th>DC</th>\n",
       "      <th>ISI</th>\n",
       "      <th>temp</th>\n",
       "      <th>RH</th>\n",
       "      <th>wind</th>\n",
       "      <th>rain</th>\n",
       "      <th>area</th>\n",
       "    </tr>\n",
       "  </thead>\n",
       "  <tbody>\n",
       "    <tr>\n",
       "      <th>0</th>\n",
       "      <td>7</td>\n",
       "      <td>5</td>\n",
       "      <td>mar</td>\n",
       "      <td>fri</td>\n",
       "      <td>86.2</td>\n",
       "      <td>26.2</td>\n",
       "      <td>94.3</td>\n",
       "      <td>5.1</td>\n",
       "      <td>8.2</td>\n",
       "      <td>51</td>\n",
       "      <td>6.7</td>\n",
       "      <td>0.0</td>\n",
       "      <td>0.00</td>\n",
       "    </tr>\n",
       "    <tr>\n",
       "      <th>1</th>\n",
       "      <td>7</td>\n",
       "      <td>4</td>\n",
       "      <td>oct</td>\n",
       "      <td>tue</td>\n",
       "      <td>90.6</td>\n",
       "      <td>35.4</td>\n",
       "      <td>669.1</td>\n",
       "      <td>6.7</td>\n",
       "      <td>18.0</td>\n",
       "      <td>33</td>\n",
       "      <td>0.9</td>\n",
       "      <td>0.0</td>\n",
       "      <td>0.00</td>\n",
       "    </tr>\n",
       "    <tr>\n",
       "      <th>2</th>\n",
       "      <td>7</td>\n",
       "      <td>4</td>\n",
       "      <td>oct</td>\n",
       "      <td>sat</td>\n",
       "      <td>90.6</td>\n",
       "      <td>43.7</td>\n",
       "      <td>686.9</td>\n",
       "      <td>6.7</td>\n",
       "      <td>14.6</td>\n",
       "      <td>33</td>\n",
       "      <td>1.3</td>\n",
       "      <td>0.0</td>\n",
       "      <td>0.00</td>\n",
       "    </tr>\n",
       "    <tr>\n",
       "      <th>3</th>\n",
       "      <td>8</td>\n",
       "      <td>6</td>\n",
       "      <td>mar</td>\n",
       "      <td>fri</td>\n",
       "      <td>91.7</td>\n",
       "      <td>33.3</td>\n",
       "      <td>77.5</td>\n",
       "      <td>9.0</td>\n",
       "      <td>8.3</td>\n",
       "      <td>97</td>\n",
       "      <td>4.0</td>\n",
       "      <td>0.2</td>\n",
       "      <td>0.00</td>\n",
       "    </tr>\n",
       "    <tr>\n",
       "      <th>4</th>\n",
       "      <td>8</td>\n",
       "      <td>6</td>\n",
       "      <td>mar</td>\n",
       "      <td>sun</td>\n",
       "      <td>89.3</td>\n",
       "      <td>51.3</td>\n",
       "      <td>102.2</td>\n",
       "      <td>9.6</td>\n",
       "      <td>11.4</td>\n",
       "      <td>99</td>\n",
       "      <td>1.8</td>\n",
       "      <td>0.0</td>\n",
       "      <td>0.00</td>\n",
       "    </tr>\n",
       "    <tr>\n",
       "      <th>...</th>\n",
       "      <td>...</td>\n",
       "      <td>...</td>\n",
       "      <td>...</td>\n",
       "      <td>...</td>\n",
       "      <td>...</td>\n",
       "      <td>...</td>\n",
       "      <td>...</td>\n",
       "      <td>...</td>\n",
       "      <td>...</td>\n",
       "      <td>...</td>\n",
       "      <td>...</td>\n",
       "      <td>...</td>\n",
       "      <td>...</td>\n",
       "    </tr>\n",
       "    <tr>\n",
       "      <th>512</th>\n",
       "      <td>4</td>\n",
       "      <td>3</td>\n",
       "      <td>aug</td>\n",
       "      <td>sun</td>\n",
       "      <td>81.6</td>\n",
       "      <td>56.7</td>\n",
       "      <td>665.6</td>\n",
       "      <td>1.9</td>\n",
       "      <td>27.8</td>\n",
       "      <td>32</td>\n",
       "      <td>2.7</td>\n",
       "      <td>0.0</td>\n",
       "      <td>6.44</td>\n",
       "    </tr>\n",
       "    <tr>\n",
       "      <th>513</th>\n",
       "      <td>2</td>\n",
       "      <td>4</td>\n",
       "      <td>aug</td>\n",
       "      <td>sun</td>\n",
       "      <td>81.6</td>\n",
       "      <td>56.7</td>\n",
       "      <td>665.6</td>\n",
       "      <td>1.9</td>\n",
       "      <td>21.9</td>\n",
       "      <td>71</td>\n",
       "      <td>5.8</td>\n",
       "      <td>0.0</td>\n",
       "      <td>54.29</td>\n",
       "    </tr>\n",
       "    <tr>\n",
       "      <th>514</th>\n",
       "      <td>7</td>\n",
       "      <td>4</td>\n",
       "      <td>aug</td>\n",
       "      <td>sun</td>\n",
       "      <td>81.6</td>\n",
       "      <td>56.7</td>\n",
       "      <td>665.6</td>\n",
       "      <td>1.9</td>\n",
       "      <td>21.2</td>\n",
       "      <td>70</td>\n",
       "      <td>6.7</td>\n",
       "      <td>0.0</td>\n",
       "      <td>11.16</td>\n",
       "    </tr>\n",
       "    <tr>\n",
       "      <th>515</th>\n",
       "      <td>1</td>\n",
       "      <td>4</td>\n",
       "      <td>aug</td>\n",
       "      <td>sat</td>\n",
       "      <td>94.4</td>\n",
       "      <td>146.0</td>\n",
       "      <td>614.7</td>\n",
       "      <td>11.3</td>\n",
       "      <td>25.6</td>\n",
       "      <td>42</td>\n",
       "      <td>4.0</td>\n",
       "      <td>0.0</td>\n",
       "      <td>0.00</td>\n",
       "    </tr>\n",
       "    <tr>\n",
       "      <th>516</th>\n",
       "      <td>6</td>\n",
       "      <td>3</td>\n",
       "      <td>nov</td>\n",
       "      <td>tue</td>\n",
       "      <td>79.5</td>\n",
       "      <td>3.0</td>\n",
       "      <td>106.7</td>\n",
       "      <td>1.1</td>\n",
       "      <td>11.8</td>\n",
       "      <td>31</td>\n",
       "      <td>4.5</td>\n",
       "      <td>0.0</td>\n",
       "      <td>0.00</td>\n",
       "    </tr>\n",
       "  </tbody>\n",
       "</table>\n",
       "<p>517 rows × 13 columns</p>\n",
       "</div>"
      ],
      "text/plain": [
       "     X  Y month  day  FFMC    DMC     DC   ISI  temp  RH  wind  rain   area\n",
       "0    7  5   mar  fri  86.2   26.2   94.3   5.1   8.2  51   6.7   0.0   0.00\n",
       "1    7  4   oct  tue  90.6   35.4  669.1   6.7  18.0  33   0.9   0.0   0.00\n",
       "2    7  4   oct  sat  90.6   43.7  686.9   6.7  14.6  33   1.3   0.0   0.00\n",
       "3    8  6   mar  fri  91.7   33.3   77.5   9.0   8.3  97   4.0   0.2   0.00\n",
       "4    8  6   mar  sun  89.3   51.3  102.2   9.6  11.4  99   1.8   0.0   0.00\n",
       "..  .. ..   ...  ...   ...    ...    ...   ...   ...  ..   ...   ...    ...\n",
       "512  4  3   aug  sun  81.6   56.7  665.6   1.9  27.8  32   2.7   0.0   6.44\n",
       "513  2  4   aug  sun  81.6   56.7  665.6   1.9  21.9  71   5.8   0.0  54.29\n",
       "514  7  4   aug  sun  81.6   56.7  665.6   1.9  21.2  70   6.7   0.0  11.16\n",
       "515  1  4   aug  sat  94.4  146.0  614.7  11.3  25.6  42   4.0   0.0   0.00\n",
       "516  6  3   nov  tue  79.5    3.0  106.7   1.1  11.8  31   4.5   0.0   0.00\n",
       "\n",
       "[517 rows x 13 columns]"
      ]
     },
     "execution_count": 2,
     "metadata": {},
     "output_type": "execute_result"
    }
   ],
   "source": [
    "df = pd.read_csv('forestfires.csv')\n",
    "df"
   ]
  },
  {
   "cell_type": "code",
   "execution_count": 3,
   "metadata": {},
   "outputs": [
    {
     "name": "stdout",
     "output_type": "stream",
     "text": [
      "Total NaN: 0\n",
      "Total null:  0\n",
      "Data type:  int64\n",
      "++++++++++\n",
      "Total NaN: 0\n",
      "Total null:  0\n",
      "Data type:  int64\n",
      "++++++++++\n",
      "Total NaN: 0\n",
      "Total null:  0\n",
      "Data type:  object\n",
      "++++++++++\n",
      "Total NaN: 0\n",
      "Total null:  0\n",
      "Data type:  object\n",
      "++++++++++\n",
      "Total NaN: 0\n",
      "Total null:  0\n",
      "Data type:  float64\n",
      "++++++++++\n",
      "Total NaN: 0\n",
      "Total null:  0\n",
      "Data type:  float64\n",
      "++++++++++\n",
      "Total NaN: 0\n",
      "Total null:  0\n",
      "Data type:  float64\n",
      "++++++++++\n",
      "Total NaN: 0\n",
      "Total null:  0\n",
      "Data type:  float64\n",
      "++++++++++\n",
      "Total NaN: 0\n",
      "Total null:  0\n",
      "Data type:  float64\n",
      "++++++++++\n",
      "Total NaN: 0\n",
      "Total null:  0\n",
      "Data type:  int64\n",
      "++++++++++\n",
      "Total NaN: 0\n",
      "Total null:  0\n",
      "Data type:  float64\n",
      "++++++++++\n",
      "Total NaN: 0\n",
      "Total null:  0\n",
      "Data type:  float64\n",
      "++++++++++\n",
      "Total NaN: 0\n",
      "Total null:  0\n",
      "Data type:  float64\n",
      "++++++++++\n"
     ]
    }
   ],
   "source": [
    "for col_name in df.columns:\n",
    "    print(\"Total NaN:\", df[col_name].isna().sum())\n",
    "    print(\"Total null: \", df[col_name].isnull().sum())\n",
    "    print(\"Data type: \", df[col_name].dtype)\n",
    "    print(\"+\"*10)"
   ]
  },
  {
   "cell_type": "code",
   "execution_count": 4,
   "metadata": {},
   "outputs": [],
   "source": [
    "def convert_month(month: str) -> int:\n",
    "    month_dict = {\n",
    "        'jan': 1,\n",
    "        'feb': 2,\n",
    "        'mar': 3,\n",
    "        'apr': 4,\n",
    "        'may': 5,\n",
    "        'jun': 6,\n",
    "        'jul': 7,\n",
    "        'aug': 8,\n",
    "        'sep': 9,\n",
    "        'oct': 10,\n",
    "        'nov': 11,\n",
    "        'dec': 12\n",
    "    }\n",
    "    return month_dict[month]"
   ]
  },
  {
   "cell_type": "code",
   "execution_count": 5,
   "metadata": {},
   "outputs": [],
   "source": [
    "def convert_day(day: str) -> int:\n",
    "    day_dict = {\n",
    "        'sun': 0,\n",
    "        'mon': 1,\n",
    "        'tue': 2,\n",
    "        'wed': 3,\n",
    "        'thu': 4,\n",
    "        'fri': 5,\n",
    "        'sat': 6\n",
    "    }\n",
    "    return day_dict[day]"
   ]
  },
  {
   "cell_type": "code",
   "execution_count": 6,
   "metadata": {},
   "outputs": [],
   "source": [
    "df[\"day\"] = df[\"day\"].apply(convert_day)\n",
    "df[\"month\"] = df[\"month\"].apply(convert_month)"
   ]
  },
  {
   "cell_type": "code",
   "execution_count": 7,
   "metadata": {},
   "outputs": [
    {
     "data": {
      "application/vnd.microsoft.datawrangler.viewer.v0+json": {
       "columns": [
        {
         "name": "index",
         "rawType": "int64",
         "type": "integer"
        },
        {
         "name": "X",
         "rawType": "int64",
         "type": "integer"
        },
        {
         "name": "Y",
         "rawType": "int64",
         "type": "integer"
        },
        {
         "name": "month",
         "rawType": "int64",
         "type": "integer"
        },
        {
         "name": "day",
         "rawType": "int64",
         "type": "integer"
        },
        {
         "name": "FFMC",
         "rawType": "float64",
         "type": "float"
        },
        {
         "name": "DMC",
         "rawType": "float64",
         "type": "float"
        },
        {
         "name": "DC",
         "rawType": "float64",
         "type": "float"
        },
        {
         "name": "ISI",
         "rawType": "float64",
         "type": "float"
        },
        {
         "name": "temp",
         "rawType": "float64",
         "type": "float"
        },
        {
         "name": "RH",
         "rawType": "int64",
         "type": "integer"
        },
        {
         "name": "wind",
         "rawType": "float64",
         "type": "float"
        },
        {
         "name": "rain",
         "rawType": "float64",
         "type": "float"
        },
        {
         "name": "area",
         "rawType": "float64",
         "type": "float"
        }
       ],
       "conversionMethod": "pd.DataFrame",
       "ref": "a3655bac-92a0-4b72-a180-0d44f3813155",
       "rows": [
        [
         "0",
         "7",
         "5",
         "3",
         "5",
         "86.2",
         "26.2",
         "94.3",
         "5.1",
         "8.2",
         "51",
         "6.7",
         "0.0",
         "0.0"
        ],
        [
         "1",
         "7",
         "4",
         "10",
         "2",
         "90.6",
         "35.4",
         "669.1",
         "6.7",
         "18.0",
         "33",
         "0.9",
         "0.0",
         "0.0"
        ],
        [
         "2",
         "7",
         "4",
         "10",
         "6",
         "90.6",
         "43.7",
         "686.9",
         "6.7",
         "14.6",
         "33",
         "1.3",
         "0.0",
         "0.0"
        ],
        [
         "3",
         "8",
         "6",
         "3",
         "5",
         "91.7",
         "33.3",
         "77.5",
         "9.0",
         "8.3",
         "97",
         "4.0",
         "0.2",
         "0.0"
        ],
        [
         "4",
         "8",
         "6",
         "3",
         "0",
         "89.3",
         "51.3",
         "102.2",
         "9.6",
         "11.4",
         "99",
         "1.8",
         "0.0",
         "0.0"
        ]
       ],
       "shape": {
        "columns": 13,
        "rows": 5
       }
      },
      "text/html": [
       "<div>\n",
       "<style scoped>\n",
       "    .dataframe tbody tr th:only-of-type {\n",
       "        vertical-align: middle;\n",
       "    }\n",
       "\n",
       "    .dataframe tbody tr th {\n",
       "        vertical-align: top;\n",
       "    }\n",
       "\n",
       "    .dataframe thead th {\n",
       "        text-align: right;\n",
       "    }\n",
       "</style>\n",
       "<table border=\"1\" class=\"dataframe\">\n",
       "  <thead>\n",
       "    <tr style=\"text-align: right;\">\n",
       "      <th></th>\n",
       "      <th>X</th>\n",
       "      <th>Y</th>\n",
       "      <th>month</th>\n",
       "      <th>day</th>\n",
       "      <th>FFMC</th>\n",
       "      <th>DMC</th>\n",
       "      <th>DC</th>\n",
       "      <th>ISI</th>\n",
       "      <th>temp</th>\n",
       "      <th>RH</th>\n",
       "      <th>wind</th>\n",
       "      <th>rain</th>\n",
       "      <th>area</th>\n",
       "    </tr>\n",
       "  </thead>\n",
       "  <tbody>\n",
       "    <tr>\n",
       "      <th>0</th>\n",
       "      <td>7</td>\n",
       "      <td>5</td>\n",
       "      <td>3</td>\n",
       "      <td>5</td>\n",
       "      <td>86.2</td>\n",
       "      <td>26.2</td>\n",
       "      <td>94.3</td>\n",
       "      <td>5.1</td>\n",
       "      <td>8.2</td>\n",
       "      <td>51</td>\n",
       "      <td>6.7</td>\n",
       "      <td>0.0</td>\n",
       "      <td>0.0</td>\n",
       "    </tr>\n",
       "    <tr>\n",
       "      <th>1</th>\n",
       "      <td>7</td>\n",
       "      <td>4</td>\n",
       "      <td>10</td>\n",
       "      <td>2</td>\n",
       "      <td>90.6</td>\n",
       "      <td>35.4</td>\n",
       "      <td>669.1</td>\n",
       "      <td>6.7</td>\n",
       "      <td>18.0</td>\n",
       "      <td>33</td>\n",
       "      <td>0.9</td>\n",
       "      <td>0.0</td>\n",
       "      <td>0.0</td>\n",
       "    </tr>\n",
       "    <tr>\n",
       "      <th>2</th>\n",
       "      <td>7</td>\n",
       "      <td>4</td>\n",
       "      <td>10</td>\n",
       "      <td>6</td>\n",
       "      <td>90.6</td>\n",
       "      <td>43.7</td>\n",
       "      <td>686.9</td>\n",
       "      <td>6.7</td>\n",
       "      <td>14.6</td>\n",
       "      <td>33</td>\n",
       "      <td>1.3</td>\n",
       "      <td>0.0</td>\n",
       "      <td>0.0</td>\n",
       "    </tr>\n",
       "    <tr>\n",
       "      <th>3</th>\n",
       "      <td>8</td>\n",
       "      <td>6</td>\n",
       "      <td>3</td>\n",
       "      <td>5</td>\n",
       "      <td>91.7</td>\n",
       "      <td>33.3</td>\n",
       "      <td>77.5</td>\n",
       "      <td>9.0</td>\n",
       "      <td>8.3</td>\n",
       "      <td>97</td>\n",
       "      <td>4.0</td>\n",
       "      <td>0.2</td>\n",
       "      <td>0.0</td>\n",
       "    </tr>\n",
       "    <tr>\n",
       "      <th>4</th>\n",
       "      <td>8</td>\n",
       "      <td>6</td>\n",
       "      <td>3</td>\n",
       "      <td>0</td>\n",
       "      <td>89.3</td>\n",
       "      <td>51.3</td>\n",
       "      <td>102.2</td>\n",
       "      <td>9.6</td>\n",
       "      <td>11.4</td>\n",
       "      <td>99</td>\n",
       "      <td>1.8</td>\n",
       "      <td>0.0</td>\n",
       "      <td>0.0</td>\n",
       "    </tr>\n",
       "  </tbody>\n",
       "</table>\n",
       "</div>"
      ],
      "text/plain": [
       "   X  Y  month  day  FFMC   DMC     DC  ISI  temp  RH  wind  rain  area\n",
       "0  7  5      3    5  86.2  26.2   94.3  5.1   8.2  51   6.7   0.0   0.0\n",
       "1  7  4     10    2  90.6  35.4  669.1  6.7  18.0  33   0.9   0.0   0.0\n",
       "2  7  4     10    6  90.6  43.7  686.9  6.7  14.6  33   1.3   0.0   0.0\n",
       "3  8  6      3    5  91.7  33.3   77.5  9.0   8.3  97   4.0   0.2   0.0\n",
       "4  8  6      3    0  89.3  51.3  102.2  9.6  11.4  99   1.8   0.0   0.0"
      ]
     },
     "execution_count": 7,
     "metadata": {},
     "output_type": "execute_result"
    }
   ],
   "source": [
    "df.head(5)"
   ]
  },
  {
   "cell_type": "code",
   "execution_count": 8,
   "metadata": {},
   "outputs": [],
   "source": [
    "import numpy as np\n",
    "class LinearRegression:\n",
    "    def fit(self, X, y):\n",
    "        cov = X.T @ X\n",
    "        inv_cov = np.linalg.inv(cov)\n",
    "        #self.theta_: np.ndarray = inv_cov @ X.T @ y\n",
    "        self.theta_ = (inv_cov @ X.T) @ y\n",
    "\n",
    "    def rmse(self, Y, Y_hat):\n",
    "        delta = Y - Y_hat\n",
    "        return float((delta**2).mean()**0.5)\n",
    "    \n",
    "    def predict(self, X):\n",
    "        y_pred = self.theta_.T @ X.T\n",
    "        return y_pred\n"
   ]
  },
  {
   "cell_type": "code",
   "execution_count": 9,
   "metadata": {},
   "outputs": [
    {
     "data": {
      "text/plain": [
       "(517, 13)"
      ]
     },
     "execution_count": 9,
     "metadata": {},
     "output_type": "execute_result"
    }
   ],
   "source": [
    "X_y = df.to_numpy()\n",
    "X_y.shape"
   ]
  },
  {
   "cell_type": "code",
   "execution_count": 10,
   "metadata": {},
   "outputs": [],
   "source": [
    "#Lấy số các giá trị \n",
    "N = df.shape[0]\n",
    "#Chia tập dữ liệu thành 2 phần: 80% train và 20% test\n",
    "X_y_train, X_y_test = np.split(X_y, indices_or_sections=[int(0.8*N)])"
   ]
  },
  {
   "cell_type": "code",
   "execution_count": 11,
   "metadata": {},
   "outputs": [
    {
     "data": {
      "text/plain": [
       "((413, 12), (104, 12), (413,), (104,))"
      ]
     },
     "execution_count": 11,
     "metadata": {},
     "output_type": "execute_result"
    }
   ],
   "source": [
    "#Lấy hết các dòng, cột trừ cột cuối\n",
    "X_train, X_test = X_y_train[:, :-1], X_y_test[:, :-1]\n",
    "\n",
    "#Lấy hết các dòng và chỉ lấy cột cuối\n",
    "Y_train, Y_test = X_y_train[:, -1], X_y_test[:, -1]\n",
    "\n",
    "X_train.shape, X_test.shape, Y_train.shape, Y_test.shape\n"
   ]
  },
  {
   "cell_type": "markdown",
   "metadata": {},
   "source": [
    "Bài 1 (3 điểm): Sử dụng Numpy xây dựng phương pháp hồi quy tuyến tính và tiến hành huấn luyện trên bộ dữ liệu Forest Fires"
   ]
  },
  {
   "cell_type": "code",
   "execution_count": 12,
   "metadata": {},
   "outputs": [],
   "source": [
    "lr = LinearRegression()\n",
    "#Tìm self.theta_\n",
    "lr.fit(X_train, Y_train)\n",
    "#Dự đoán Y_pred trên tập test\n",
    "Y_pred = lr.predict(X_test)"
   ]
  },
  {
   "cell_type": "code",
   "execution_count": 13,
   "metadata": {},
   "outputs": [
    {
     "name": "stdout",
     "output_type": "stream",
     "text": [
      "[ 0.93387474 -0.3472708   2.97274599  1.69617548 -0.08518378  0.11686352\n",
      " -0.02830015 -0.88678297  0.43970684 -0.18297875  0.04626583 -6.54744483]\n",
      "(12,)\n"
     ]
    }
   ],
   "source": [
    "#Self.theta_ \n",
    "print(lr.theta_)\n",
    "print(lr.theta_.shape)"
   ]
  },
  {
   "cell_type": "code",
   "execution_count": 14,
   "metadata": {},
   "outputs": [
    {
     "data": {
      "text/plain": [
       "79.42477263962972"
      ]
     },
     "execution_count": 14,
     "metadata": {},
     "output_type": "execute_result"
    }
   ],
   "source": [
    "#Sai số giữa giá trị dự đoán và giá trị thực tế\n",
    "lr.rmse(Y_test, Y_pred)"
   ]
  },
  {
   "cell_type": "code",
   "execution_count": 15,
   "metadata": {},
   "outputs": [
    {
     "data": {
      "text/plain": [
       "<matplotlib.legend.Legend at 0x1ebb38d6e40>"
      ]
     },
     "execution_count": 15,
     "metadata": {},
     "output_type": "execute_result"
    },
    {
     "data": {
      "image/png": "[encoded data removed]",
      "text/plain": [
       "<Figure size 640x480 with 1 Axes>"
      ]
     },
     "metadata": {},
     "output_type": "display_data"
    }
   ],
   "source": [
    "import matplotlib.pyplot as plt\n",
    "\n",
    "#Vẽ biểu đồ so sánh giữa giá trị thực tế và giá trị dự đoán\n",
    "X_axis = range(len(Y_test))\n",
    "plt.plot(X_axis, Y_test, color='b', label='True values')\n",
    "plt.plot(X_axis, Y_pred, color='r', label='Predictions')\n",
    "#Chú thích\n",
    "plt.legend()"
   ]
  },
  {
   "cell_type": "markdown",
   "metadata": {},
   "source": [
    "Bài 2 (3 điểm): Chuẩn hoá dữ liệu về phân phối có kỳ vọng là 0 và phương sai là 1. So sánh kết quả của mô hình sau khi được huấn luyện với dữ liệu đã được chuẩn hoá so với kết quả trong bài 1. "
   ]
  },
  {
   "cell_type": "code",
   "execution_count": 16,
   "metadata": {},
   "outputs": [
    {
     "name": "stdout",
     "output_type": "stream",
     "text": [
      "[9.03738499e+01 9.97188862e+01 5.42470944e+02 8.75036320e+00\n",
      " 1.81450363e+01 4.34503632e+01 3.93922518e+00 3.38983051e-03]\n",
      "[5.76742073e+00 5.42344086e+01 2.49617522e+02 4.47950200e+00\n",
      " 5.34103814e+00 1.58441435e+01 1.79298104e+00 5.10247112e-02]\n"
     ]
    }
   ],
   "source": [
    "#Chuẩn hóa dữ liệu của X_train từ cột 4 đến cột 12\n",
    "#do cột 0:12 không cần chuẩn hóa (dữ liệu dạng số, phân loại)\n",
    "X_mean = np.mean(X_train[:, 4:12],axis=0)\n",
    "X_std = np.std(X_train[:, 4:12],axis=0)\n",
    "\n",
    "#Tạo bản sao của X_train và X_test để chuẩn hóa\n",
    "X_train_norm = X_train.copy()\n",
    "X_test_norm = X_test.copy()\n",
    "\n",
    "#Chuẩn hóa dữ liệu của bản sao\n",
    "X_train_norm[:, 4:12] = (X_train[:, 4:12] - X_mean) / X_std\n",
    "X_test_norm[:, 4:12] = (X_test[:, 4:12] - X_mean) / X_std\n",
    "\n",
    "print(X_train[:, 4:12].mean(axis=0))\n",
    "print(X_train[:, 4:12].std(axis=0))"
   ]
  },
  {
   "cell_type": "code",
   "execution_count": 17,
   "metadata": {},
   "outputs": [],
   "source": [
    "#Tính toán lại sau khi chuẩn hóa\n",
    "lr_norm = LinearRegression()\n",
    "lr_norm.fit(X_train_norm, Y_train)\n",
    "Y_pred_norm = lr_norm.predict(X_test_norm)\n"
   ]
  },
  {
   "cell_type": "code",
   "execution_count": 18,
   "metadata": {},
   "outputs": [
    {
     "name": "stdout",
     "output_type": "stream",
     "text": [
      "[ 0.84186217 -0.77498961  0.88344175  1.4512355  -0.03702466  5.50145196\n",
      " -1.93438588 -4.06052164  1.88764502 -3.17832566  0.67137735 -0.40246184]\n",
      "(12,)\n"
     ]
    }
   ],
   "source": [
    "print(lr_norm.theta_)\n",
    "print(lr_norm.theta_.shape)"
   ]
  },
  {
   "cell_type": "code",
   "execution_count": 19,
   "metadata": {},
   "outputs": [
    {
     "data": {
      "text/plain": [
       "79.57965791089426"
      ]
     },
     "execution_count": 19,
     "metadata": {},
     "output_type": "execute_result"
    }
   ],
   "source": [
    "#Sai số giữa giá trị dự đoán và giá trị thực tế sau khi chuẩn hóa\n",
    "lr_norm.rmse(Y_test, Y_pred_norm)"
   ]
  },
  {
   "cell_type": "code",
   "execution_count": 20,
   "metadata": {},
   "outputs": [
    {
     "data": {
      "text/plain": [
       "79.42477263962972"
      ]
     },
     "execution_count": 20,
     "metadata": {},
     "output_type": "execute_result"
    }
   ],
   "source": [
    "#Sai số giữa giá trị dự đoán và giá trị thực tế\n",
    "lr.rmse(Y_test, Y_pred)"
   ]
  },
  {
   "cell_type": "markdown",
   "metadata": {},
   "source": [
    "RMSE tăng 0.1, kết quả không thay đổi nhiều."
   ]
  },
  {
   "cell_type": "code",
   "execution_count": 21,
   "metadata": {},
   "outputs": [
    {
     "name": "stdout",
     "output_type": "stream",
     "text": [
      "X_train trước chuẩn hóa:\n",
      " [[7.000e+00 5.000e+00 3.000e+00 5.000e+00 8.620e+01 2.620e+01 9.430e+01\n",
      "  5.100e+00 8.200e+00 5.100e+01 6.700e+00 0.000e+00]\n",
      " [7.000e+00 4.000e+00 1.000e+01 2.000e+00 9.060e+01 3.540e+01 6.691e+02\n",
      "  6.700e+00 1.800e+01 3.300e+01 9.000e-01 0.000e+00]\n",
      " [7.000e+00 4.000e+00 1.000e+01 6.000e+00 9.060e+01 4.370e+01 6.869e+02\n",
      "  6.700e+00 1.460e+01 3.300e+01 1.300e+00 0.000e+00]\n",
      " [8.000e+00 6.000e+00 3.000e+00 5.000e+00 9.170e+01 3.330e+01 7.750e+01\n",
      "  9.000e+00 8.300e+00 9.700e+01 4.000e+00 2.000e-01]\n",
      " [8.000e+00 6.000e+00 3.000e+00 0.000e+00 8.930e+01 5.130e+01 1.022e+02\n",
      "  9.600e+00 1.140e+01 9.900e+01 1.800e+00 0.000e+00]]\n",
      "X_train sau chuẩn hóa:\n",
      " [[ 7.          5.          3.          5.         -0.72369436 -1.35557643\n",
      "  -1.79543063 -0.8149038  -1.86200436  0.47649384  1.539768   -0.06643507]\n",
      " [ 7.          4.         10.          2.          0.03921166 -1.18594243\n",
      "   0.50729234 -0.45772124 -0.02715508 -0.65957262 -1.69506822 -0.06643507]\n",
      " [ 7.          4.         10.          6.          0.03921166 -1.03290305\n",
      "   0.57860143 -0.45772124 -0.66373544 -0.65957262 -1.47197607 -0.06643507]\n",
      " [ 8.          6.          3.          5.          0.22993816 -1.22466323\n",
      "  -1.8627336   0.0557287  -1.84328141  3.3797748   0.03389596  3.85323434]\n",
      " [ 8.          6.          3.          0.         -0.1861924  -0.89277061\n",
      "  -1.76378221  0.18967216 -1.2628699   3.5060044  -1.19311088 -0.06643507]]\n"
     ]
    }
   ],
   "source": [
    "print(\"X_train trước chuẩn hóa:\\n\", X_train[:5])\n",
    "print(\"X_train sau chuẩn hóa:\\n\", X_train_norm[:5])"
   ]
  },
  {
   "cell_type": "markdown",
   "metadata": {},
   "source": [
    "Tập X_train đã được chuẩn hóa"
   ]
  },
  {
   "cell_type": "code",
   "execution_count": 22,
   "metadata": {},
   "outputs": [
    {
     "name": "stdout",
     "output_type": "stream",
     "text": [
      "Theta trước chuẩn hóa:\n",
      " [ 0.84186217 -0.77498961  0.88344175  1.4512355  -0.03702466  5.50145196\n",
      " -1.93438588 -4.06052164  1.88764502 -3.17832566  0.67137735 -0.40246184]\n",
      "Theta sau chuẩn hóa:\n",
      " [ 0.93387474 -0.3472708   2.97274599  1.69617548 -0.08518378  0.11686352\n",
      " -0.02830015 -0.88678297  0.43970684 -0.18297875  0.04626583 -6.54744483]\n"
     ]
    }
   ],
   "source": [
    "#theta trước và sau chuẩn hóa\n",
    "print(\"Theta trước chuẩn hóa:\\n\", lr_norm.theta_)\n",
    "print(\"Theta sau chuẩn hóa:\\n\", lr.theta_)   "
   ]
  },
  {
   "cell_type": "markdown",
   "metadata": {},
   "source": [
    "Theta có sự thay đổi."
   ]
  },
  {
   "cell_type": "markdown",
   "metadata": {},
   "source": [
    "Bài 3 (2 điểm): Tiến hành kỹ thuật Feature Engineering, tìm ra các thuộc tính có tính chất colinearity (linearly dependent). Huấn luyện lại phương pháp hồi quy tuyến tính với bộ dữ liệu chỉ giữ lại các thuộc tính uncorrelated. "
   ]
  },
  {
   "cell_type": "code",
   "execution_count": 23,
   "metadata": {},
   "outputs": [
    {
     "data": {
      "application/vnd.microsoft.datawrangler.viewer.v0+json": {
       "columns": [
        {
         "name": "index",
         "rawType": "int64",
         "type": "integer"
        },
        {
         "name": "FFMC",
         "rawType": "float64",
         "type": "float"
        },
        {
         "name": "DMC",
         "rawType": "float64",
         "type": "float"
        },
        {
         "name": "DC",
         "rawType": "float64",
         "type": "float"
        },
        {
         "name": "ISI",
         "rawType": "float64",
         "type": "float"
        },
        {
         "name": "temp",
         "rawType": "float64",
         "type": "float"
        },
        {
         "name": "RH",
         "rawType": "int64",
         "type": "integer"
        },
        {
         "name": "wind",
         "rawType": "float64",
         "type": "float"
        },
        {
         "name": "rain",
         "rawType": "float64",
         "type": "float"
        },
        {
         "name": "area",
         "rawType": "float64",
         "type": "float"
        }
       ],
       "conversionMethod": "pd.DataFrame",
       "ref": "e63b1346-cda6-4d4f-9649-2d7e1c6b638a",
       "rows": [
        [
         "0",
         "86.2",
         "26.2",
         "94.3",
         "5.1",
         "8.2",
         "51",
         "6.7",
         "0.0",
         "0.0"
        ],
        [
         "1",
         "90.6",
         "35.4",
         "669.1",
         "6.7",
         "18.0",
         "33",
         "0.9",
         "0.0",
         "0.0"
        ],
        [
         "2",
         "90.6",
         "43.7",
         "686.9",
         "6.7",
         "14.6",
         "33",
         "1.3",
         "0.0",
         "0.0"
        ],
        [
         "3",
         "91.7",
         "33.3",
         "77.5",
         "9.0",
         "8.3",
         "97",
         "4.0",
         "0.2",
         "0.0"
        ],
        [
         "4",
         "89.3",
         "51.3",
         "102.2",
         "9.6",
         "11.4",
         "99",
         "1.8",
         "0.0",
         "0.0"
        ],
        [
         "5",
         "92.3",
         "85.3",
         "488.0",
         "14.7",
         "22.2",
         "29",
         "5.4",
         "0.0",
         "0.0"
        ],
        [
         "6",
         "92.3",
         "88.9",
         "495.6",
         "8.5",
         "24.1",
         "27",
         "3.1",
         "0.0",
         "0.0"
        ],
        [
         "7",
         "91.5",
         "145.4",
         "608.2",
         "10.7",
         "8.0",
         "86",
         "2.2",
         "0.0",
         "0.0"
        ],
        [
         "8",
         "91.0",
         "129.5",
         "692.6",
         "7.0",
         "13.1",
         "63",
         "5.4",
         "0.0",
         "0.0"
        ],
        [
         "9",
         "92.5",
         "88.0",
         "698.6",
         "7.1",
         "22.8",
         "40",
         "4.0",
         "0.0",
         "0.0"
        ],
        [
         "10",
         "92.5",
         "88.0",
         "698.6",
         "7.1",
         "17.8",
         "51",
         "7.2",
         "0.0",
         "0.0"
        ],
        [
         "11",
         "92.8",
         "73.2",
         "713.0",
         "22.6",
         "19.3",
         "38",
         "4.0",
         "0.0",
         "0.0"
        ],
        [
         "12",
         "63.5",
         "70.8",
         "665.3",
         "0.8",
         "17.0",
         "72",
         "6.7",
         "0.0",
         "0.0"
        ],
        [
         "13",
         "90.9",
         "126.5",
         "686.5",
         "7.0",
         "21.3",
         "42",
         "2.2",
         "0.0",
         "0.0"
        ],
        [
         "14",
         "92.9",
         "133.3",
         "699.6",
         "9.2",
         "26.4",
         "21",
         "4.5",
         "0.0",
         "0.0"
        ],
        [
         "15",
         "93.3",
         "141.2",
         "713.9",
         "13.9",
         "22.9",
         "44",
         "5.4",
         "0.0",
         "0.0"
        ],
        [
         "16",
         "91.7",
         "35.8",
         "80.8",
         "7.8",
         "15.1",
         "27",
         "5.4",
         "0.0",
         "0.0"
        ],
        [
         "17",
         "84.9",
         "32.8",
         "664.2",
         "3.0",
         "16.7",
         "47",
         "4.9",
         "0.0",
         "0.0"
        ],
        [
         "18",
         "89.2",
         "27.9",
         "70.8",
         "6.3",
         "15.9",
         "35",
         "4.0",
         "0.0",
         "0.0"
        ],
        [
         "19",
         "86.3",
         "27.4",
         "97.1",
         "5.1",
         "9.3",
         "44",
         "4.5",
         "0.0",
         "0.0"
        ],
        [
         "20",
         "91.0",
         "129.5",
         "692.6",
         "7.0",
         "18.3",
         "40",
         "2.7",
         "0.0",
         "0.0"
        ],
        [
         "21",
         "91.8",
         "78.5",
         "724.3",
         "9.2",
         "19.1",
         "38",
         "2.7",
         "0.0",
         "0.0"
        ],
        [
         "22",
         "94.3",
         "96.3",
         "200.0",
         "56.1",
         "21.0",
         "44",
         "4.5",
         "0.0",
         "0.0"
        ],
        [
         "23",
         "90.2",
         "110.9",
         "537.4",
         "6.2",
         "19.5",
         "43",
         "5.8",
         "0.0",
         "0.0"
        ],
        [
         "24",
         "93.5",
         "139.4",
         "594.2",
         "20.3",
         "23.7",
         "32",
         "5.8",
         "0.0",
         "0.0"
        ],
        [
         "25",
         "91.4",
         "142.4",
         "601.4",
         "10.6",
         "16.3",
         "60",
         "5.4",
         "0.0",
         "0.0"
        ],
        [
         "26",
         "92.4",
         "117.9",
         "668.0",
         "12.2",
         "19.0",
         "34",
         "5.8",
         "0.0",
         "0.0"
        ],
        [
         "27",
         "90.9",
         "126.5",
         "686.5",
         "7.0",
         "19.4",
         "48",
         "1.3",
         "0.0",
         "0.0"
        ],
        [
         "28",
         "93.4",
         "145.4",
         "721.4",
         "8.1",
         "30.2",
         "24",
         "2.7",
         "0.0",
         "0.0"
        ],
        [
         "29",
         "93.5",
         "149.3",
         "728.6",
         "8.1",
         "22.8",
         "39",
         "3.6",
         "0.0",
         "0.0"
        ],
        [
         "30",
         "94.3",
         "85.1",
         "692.3",
         "15.9",
         "25.4",
         "24",
         "3.6",
         "0.0",
         "0.0"
        ],
        [
         "31",
         "88.6",
         "91.8",
         "709.9",
         "7.1",
         "11.2",
         "78",
         "7.6",
         "0.0",
         "0.0"
        ],
        [
         "32",
         "88.6",
         "69.7",
         "706.8",
         "5.8",
         "20.6",
         "37",
         "1.8",
         "0.0",
         "0.0"
        ],
        [
         "33",
         "91.7",
         "75.6",
         "718.3",
         "7.8",
         "17.7",
         "39",
         "3.6",
         "0.0",
         "0.0"
        ],
        [
         "34",
         "91.8",
         "78.5",
         "724.3",
         "9.2",
         "21.2",
         "32",
         "2.7",
         "0.0",
         "0.0"
        ],
        [
         "35",
         "90.3",
         "80.7",
         "730.2",
         "6.3",
         "18.2",
         "62",
         "4.5",
         "0.0",
         "0.0"
        ],
        [
         "36",
         "90.6",
         "35.4",
         "669.1",
         "6.7",
         "21.7",
         "24",
         "4.5",
         "0.0",
         "0.0"
        ],
        [
         "37",
         "90.0",
         "41.5",
         "682.6",
         "8.7",
         "11.3",
         "60",
         "5.4",
         "0.0",
         "0.0"
        ],
        [
         "38",
         "90.6",
         "43.7",
         "686.9",
         "6.7",
         "17.8",
         "27",
         "4.0",
         "0.0",
         "0.0"
        ],
        [
         "39",
         "88.1",
         "25.7",
         "67.6",
         "3.8",
         "14.1",
         "43",
         "2.7",
         "0.0",
         "0.0"
        ],
        [
         "40",
         "79.5",
         "60.6",
         "366.7",
         "1.5",
         "23.3",
         "37",
         "3.1",
         "0.0",
         "0.0"
        ],
        [
         "41",
         "90.2",
         "96.9",
         "624.2",
         "8.9",
         "18.4",
         "42",
         "6.7",
         "0.0",
         "0.0"
        ],
        [
         "42",
         "94.8",
         "108.3",
         "647.1",
         "17.0",
         "16.6",
         "54",
         "5.4",
         "0.0",
         "0.0"
        ],
        [
         "43",
         "92.5",
         "88.0",
         "698.6",
         "7.1",
         "19.6",
         "48",
         "2.7",
         "0.0",
         "0.0"
        ],
        [
         "44",
         "90.1",
         "82.9",
         "735.7",
         "6.2",
         "12.9",
         "74",
         "4.9",
         "0.0",
         "0.0"
        ],
        [
         "45",
         "94.3",
         "85.1",
         "692.3",
         "15.9",
         "25.9",
         "24",
         "4.0",
         "0.0",
         "0.0"
        ],
        [
         "46",
         "90.9",
         "126.5",
         "686.5",
         "7.0",
         "14.7",
         "70",
         "3.6",
         "0.0",
         "0.0"
        ],
        [
         "47",
         "94.2",
         "62.3",
         "442.9",
         "11.0",
         "23.0",
         "36",
         "3.1",
         "0.0",
         "0.0"
        ],
        [
         "48",
         "87.2",
         "23.9",
         "64.7",
         "4.1",
         "11.8",
         "35",
         "1.8",
         "0.0",
         "0.0"
        ],
        [
         "49",
         "87.6",
         "52.2",
         "103.8",
         "5.0",
         "11.0",
         "46",
         "5.8",
         "0.0",
         "0.0"
        ]
       ],
       "shape": {
        "columns": 9,
        "rows": 517
       }
      },
      "text/html": [
       "<div>\n",
       "<style scoped>\n",
       "    .dataframe tbody tr th:only-of-type {\n",
       "        vertical-align: middle;\n",
       "    }\n",
       "\n",
       "    .dataframe tbody tr th {\n",
       "        vertical-align: top;\n",
       "    }\n",
       "\n",
       "    .dataframe thead th {\n",
       "        text-align: right;\n",
       "    }\n",
       "</style>\n",
       "<table border=\"1\" class=\"dataframe\">\n",
       "  <thead>\n",
       "    <tr style=\"text-align: right;\">\n",
       "      <th></th>\n",
       "      <th>FFMC</th>\n",
       "      <th>DMC</th>\n",
       "      <th>DC</th>\n",
       "      <th>ISI</th>\n",
       "      <th>temp</th>\n",
       "      <th>RH</th>\n",
       "      <th>wind</th>\n",
       "      <th>rain</th>\n",
       "      <th>area</th>\n",
       "    </tr>\n",
       "  </thead>\n",
       "  <tbody>\n",
       "    <tr>\n",
       "      <th>0</th>\n",
       "      <td>86.2</td>\n",
       "      <td>26.2</td>\n",
       "      <td>94.3</td>\n",
       "      <td>5.1</td>\n",
       "      <td>8.2</td>\n",
       "      <td>51</td>\n",
       "      <td>6.7</td>\n",
       "      <td>0.0</td>\n",
       "      <td>0.00</td>\n",
       "    </tr>\n",
       "    <tr>\n",
       "      <th>1</th>\n",
       "      <td>90.6</td>\n",
       "      <td>35.4</td>\n",
       "      <td>669.1</td>\n",
       "      <td>6.7</td>\n",
       "      <td>18.0</td>\n",
       "      <td>33</td>\n",
       "      <td>0.9</td>\n",
       "      <td>0.0</td>\n",
       "      <td>0.00</td>\n",
       "    </tr>\n",
       "    <tr>\n",
       "      <th>2</th>\n",
       "      <td>90.6</td>\n",
       "      <td>43.7</td>\n",
       "      <td>686.9</td>\n",
       "      <td>6.7</td>\n",
       "      <td>14.6</td>\n",
       "      <td>33</td>\n",
       "      <td>1.3</td>\n",
       "      <td>0.0</td>\n",
       "      <td>0.00</td>\n",
       "    </tr>\n",
       "    <tr>\n",
       "      <th>3</th>\n",
       "      <td>91.7</td>\n",
       "      <td>33.3</td>\n",
       "      <td>77.5</td>\n",
       "      <td>9.0</td>\n",
       "      <td>8.3</td>\n",
       "      <td>97</td>\n",
       "      <td>4.0</td>\n",
       "      <td>0.2</td>\n",
       "      <td>0.00</td>\n",
       "    </tr>\n",
       "    <tr>\n",
       "      <th>4</th>\n",
       "      <td>89.3</td>\n",
       "      <td>51.3</td>\n",
       "      <td>102.2</td>\n",
       "      <td>9.6</td>\n",
       "      <td>11.4</td>\n",
       "      <td>99</td>\n",
       "      <td>1.8</td>\n",
       "      <td>0.0</td>\n",
       "      <td>0.00</td>\n",
       "    </tr>\n",
       "    <tr>\n",
       "      <th>...</th>\n",
       "      <td>...</td>\n",
       "      <td>...</td>\n",
       "      <td>...</td>\n",
       "      <td>...</td>\n",
       "      <td>...</td>\n",
       "      <td>...</td>\n",
       "      <td>...</td>\n",
       "      <td>...</td>\n",
       "      <td>...</td>\n",
       "    </tr>\n",
       "    <tr>\n",
       "      <th>512</th>\n",
       "      <td>81.6</td>\n",
       "      <td>56.7</td>\n",
       "      <td>665.6</td>\n",
       "      <td>1.9</td>\n",
       "      <td>27.8</td>\n",
       "      <td>32</td>\n",
       "      <td>2.7</td>\n",
       "      <td>0.0</td>\n",
       "      <td>6.44</td>\n",
       "    </tr>\n",
       "    <tr>\n",
       "      <th>513</th>\n",
       "      <td>81.6</td>\n",
       "      <td>56.7</td>\n",
       "      <td>665.6</td>\n",
       "      <td>1.9</td>\n",
       "      <td>21.9</td>\n",
       "      <td>71</td>\n",
       "      <td>5.8</td>\n",
       "      <td>0.0</td>\n",
       "      <td>54.29</td>\n",
       "    </tr>\n",
       "    <tr>\n",
       "      <th>514</th>\n",
       "      <td>81.6</td>\n",
       "      <td>56.7</td>\n",
       "      <td>665.6</td>\n",
       "      <td>1.9</td>\n",
       "      <td>21.2</td>\n",
       "      <td>70</td>\n",
       "      <td>6.7</td>\n",
       "      <td>0.0</td>\n",
       "      <td>11.16</td>\n",
       "    </tr>\n",
       "    <tr>\n",
       "      <th>515</th>\n",
       "      <td>94.4</td>\n",
       "      <td>146.0</td>\n",
       "      <td>614.7</td>\n",
       "      <td>11.3</td>\n",
       "      <td>25.6</td>\n",
       "      <td>42</td>\n",
       "      <td>4.0</td>\n",
       "      <td>0.0</td>\n",
       "      <td>0.00</td>\n",
       "    </tr>\n",
       "    <tr>\n",
       "      <th>516</th>\n",
       "      <td>79.5</td>\n",
       "      <td>3.0</td>\n",
       "      <td>106.7</td>\n",
       "      <td>1.1</td>\n",
       "      <td>11.8</td>\n",
       "      <td>31</td>\n",
       "      <td>4.5</td>\n",
       "      <td>0.0</td>\n",
       "      <td>0.00</td>\n",
       "    </tr>\n",
       "  </tbody>\n",
       "</table>\n",
       "<p>517 rows × 9 columns</p>\n",
       "</div>"
      ],
      "text/plain": [
       "     FFMC    DMC     DC   ISI  temp  RH  wind  rain   area\n",
       "0    86.2   26.2   94.3   5.1   8.2  51   6.7   0.0   0.00\n",
       "1    90.6   35.4  669.1   6.7  18.0  33   0.9   0.0   0.00\n",
       "2    90.6   43.7  686.9   6.7  14.6  33   1.3   0.0   0.00\n",
       "3    91.7   33.3   77.5   9.0   8.3  97   4.0   0.2   0.00\n",
       "4    89.3   51.3  102.2   9.6  11.4  99   1.8   0.0   0.00\n",
       "..    ...    ...    ...   ...   ...  ..   ...   ...    ...\n",
       "512  81.6   56.7  665.6   1.9  27.8  32   2.7   0.0   6.44\n",
       "513  81.6   56.7  665.6   1.9  21.9  71   5.8   0.0  54.29\n",
       "514  81.6   56.7  665.6   1.9  21.2  70   6.7   0.0  11.16\n",
       "515  94.4  146.0  614.7  11.3  25.6  42   4.0   0.0   0.00\n",
       "516  79.5    3.0  106.7   1.1  11.8  31   4.5   0.0   0.00\n",
       "\n",
       "[517 rows x 9 columns]"
      ]
     },
     "execution_count": 23,
     "metadata": {},
     "output_type": "execute_result"
    }
   ],
   "source": [
    "corr_df = df.drop(columns = ['X', 'Y', 'month', 'day'])\n",
    "corr_df\n"
   ]
  },
  {
   "cell_type": "code",
   "execution_count": 24,
   "metadata": {},
   "outputs": [
    {
     "name": "stdout",
     "output_type": "stream",
     "text": [
      "          FFMC       DMC        DC       ISI      temp        RH      wind  \\\n",
      "FFMC  1.000000  0.382619  0.330512  0.531805  0.431532 -0.300995 -0.028485   \n",
      "DMC   0.382619  1.000000  0.682192  0.305128  0.469594  0.073795 -0.105342   \n",
      "DC    0.330512  0.682192  1.000000  0.229154  0.496208 -0.039192 -0.203466   \n",
      "ISI   0.531805  0.305128  0.229154  1.000000  0.394287 -0.132517  0.106826   \n",
      "temp  0.431532  0.469594  0.496208  0.394287  1.000000 -0.527390 -0.227116   \n",
      "RH   -0.300995  0.073795 -0.039192 -0.132517 -0.527390  1.000000  0.069410   \n",
      "wind -0.028485 -0.105342 -0.203466  0.106826 -0.227116  0.069410  1.000000   \n",
      "rain  0.056702  0.074790  0.035861  0.067668  0.069491  0.099751  0.061119   \n",
      "area  0.040122  0.072994  0.049383  0.008258  0.097844 -0.075519  0.012317   \n",
      "\n",
      "          rain      area  \n",
      "FFMC  0.056702  0.040122  \n",
      "DMC   0.074790  0.072994  \n",
      "DC    0.035861  0.049383  \n",
      "ISI   0.067668  0.008258  \n",
      "temp  0.069491  0.097844  \n",
      "RH    0.099751 -0.075519  \n",
      "wind  0.061119  0.012317  \n",
      "rain  1.000000 -0.007366  \n",
      "area -0.007366  1.000000  \n"
     ]
    },
    {
     "data": {
      "image/png": "[encoded data removed]",
      "text/plain": [
       "<Figure size 640x480 with 2 Axes>"
      ]
     },
     "metadata": {},
     "output_type": "display_data"
    }
   ],
   "source": [
    "import seaborn as sns\n",
    "\n",
    "#Tính toán ma trận tương quan\n",
    "corr_matrix = corr_df.corr(numeric_only=True)\n",
    "print(corr_matrix)\n",
    "\n",
    "#Vẽ biểu đồ heatmap\n",
    "sns.heatmap(corr_matrix, cmap=\"magma\", annot=True)\n",
    "plt.show()"
   ]
  },
  {
   "cell_type": "markdown",
   "metadata": {},
   "source": [
    "Ta thấy DC và DMC có sự đồng tuyến tính khá cao (mặc dù thấp hơn 0.80 nhưng cao nhất trong bảng), ta có thể bỏ 1 trong 2 cột này."
   ]
  },
  {
   "cell_type": "code",
   "execution_count": 25,
   "metadata": {},
   "outputs": [
    {
     "name": "stdout",
     "output_type": "stream",
     "text": [
      "6\n"
     ]
    }
   ],
   "source": [
    "#Bỏ cột DC\n",
    "print(df.columns.get_loc(\"DC\"))\n",
    "X_train_norm_DC = np.delete(X_train_norm, 6, axis=1)\n",
    "X_test_norm_DC = np.delete(X_test_norm, 6, axis=1)"
   ]
  },
  {
   "cell_type": "code",
   "execution_count": 26,
   "metadata": {},
   "outputs": [
    {
     "data": {
      "text/plain": [
       "79.57556327102078"
      ]
     },
     "execution_count": 26,
     "metadata": {},
     "output_type": "execute_result"
    }
   ],
   "source": [
    "#Huấn luyện lại mô hình\n",
    "lr_norm_DC = LinearRegression()\n",
    "lr_norm_DC.fit(X_train_norm_DC, Y_train)\n",
    "Y_pred_norm_DC = lr_norm_DC.predict(X_test_norm_DC)\n",
    "lr_norm_DC.rmse(Y_test, Y_pred_norm_DC)"
   ]
  },
  {
   "cell_type": "code",
   "execution_count": 27,
   "metadata": {},
   "outputs": [
    {
     "name": "stdout",
     "output_type": "stream",
     "text": [
      "5\n"
     ]
    }
   ],
   "source": [
    "#Bỏ cột DMC\n",
    "print(df.columns.get_loc(\"DMC\"))\n",
    "X_train_norm_DMC = np.delete(X_train_norm, 5, axis=1)\n",
    "X_test_norm_DMC = np.delete(X_test_norm, 5, axis=1)"
   ]
  },
  {
   "cell_type": "code",
   "execution_count": 28,
   "metadata": {},
   "outputs": [
    {
     "data": {
      "text/plain": [
       "79.52995684388836"
      ]
     },
     "execution_count": 28,
     "metadata": {},
     "output_type": "execute_result"
    }
   ],
   "source": [
    "#Huấn luyện lại mô hình\n",
    "lr_norm_DMC = LinearRegression()\n",
    "lr_norm_DMC.fit(X_train_norm_DMC, Y_train)\n",
    "Y_pred_norm_DMC = lr_norm_DMC.predict(X_test_norm_DMC)\n",
    "lr_norm_DMC.rmse(Y_test, Y_pred_norm_DMC)"
   ]
  },
  {
   "cell_type": "markdown",
   "metadata": {},
   "source": [
    "Bài 4 (2 điểm): Sử dụng thư viện Machine Learning (Sklearn hoặc Skorch) thực thi lại phương pháp Linear Regression. "
   ]
  },
  {
   "cell_type": "code",
   "execution_count": 29,
   "metadata": {},
   "outputs": [
    {
     "data": {
      "text/plain": [
       "79.42418341039725"
      ]
     },
     "execution_count": 29,
     "metadata": {},
     "output_type": "execute_result"
    }
   ],
   "source": [
    "#Mô hình hồi quy tuyến tính\n",
    "from sklearn.linear_model import LinearRegression as linear_model\n",
    "#Hàm tính MSE\n",
    "from sklearn.metrics import mean_squared_error\n",
    "\n",
    "#Tao mô hình\n",
    "model = linear_model()\n",
    "#Huấn luyện mô hình\n",
    "model.fit(X_train_norm, Y_train)\n",
    "Y_pred_model = model.predict(X_test_norm)\n",
    "#Tính RMSE\n",
    "mse = mean_squared_error(Y_test, Y_pred_model)\n",
    "rmse = float(np.sqrt(mse))\n",
    "rmse\n"
   ]
  }
 ],
 "metadata": {
  "kernelspec": {
   "display_name": "Python 3",
   "language": "python",
   "name": "python3"
  },
  "language_info": {
   "codemirror_mode": {
    "name": "ipython",
    "version": 3
   },
   "file_extension": ".py",
   "mimetype": "text/x-python",
   "name": "python",
   "nbconvert_exporter": "python",
   "pygments_lexer": "ipython3",
   "version": "3.13.2"
  }
 },
 "nbformat": 4,
 "nbformat_minor": 2
}
